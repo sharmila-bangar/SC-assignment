{
 "cells": [
  {
   "cell_type": "code",
   "execution_count": 10,
   "id": "054322d6",
   "metadata": {},
   "outputs": [],
   "source": [
    "import os\n",
    "\n",
    "class data:\n",
    "    def __init__(self, file_name):\n",
    "        self._file_name = file_name\n",
    "        \n",
    "    def file_open(self):\n",
    "        try:\n",
    "            if self._file_name in os.listdir():\n",
    "                return \"file already exists\"\n",
    "            else:\n",
    "                f = open(self._file_name,'w')\n",
    "                f.write(\"This is a placement assignment\")\n",
    "                f.close()\n",
    "        except Exception as e:\n",
    "            print(e)\n",
    "            \n",
    "    # defining a decorator\n",
    "    def Read_Write(func1):\n",
    "        def inner1(self):\n",
    "            print(\"Reading the File\")\n",
    "            func1(self)\n",
    "#             self.func2()\n",
    "            print(\"Written the File\")\n",
    "        return inner1\n",
    "\n",
    "    @Read_Write\n",
    "    def file_read(self):\n",
    "        try:\n",
    "            f = open(self._file_name,'r')\n",
    "            for line in f:\n",
    "                self.line = line.replace('placement', 'screening')\n",
    "                return self.line\n",
    "            f.close()\n",
    "        except Exception as e:\n",
    "            print(e)\n",
    "            \n",
    "    @Read_Write\n",
    "    def replace_string(self):\n",
    "        try:\n",
    "            fout = open(self._file_name,'w')\n",
    "            print(self.line)\n",
    "            fout.write(self.line)\n",
    "            fout.close()\n",
    "        except Exception as e:\n",
    "            print(e)\n",
    "        \n",
    "file2 = data('Example.txt')"
   ]
  },
  {
   "cell_type": "code",
   "execution_count": 11,
   "id": "ef3f9b75",
   "metadata": {},
   "outputs": [
    {
     "name": "stdout",
     "output_type": "stream",
     "text": [
      "Reading the File\n",
      "Written the File\n",
      "Reading the File\n",
      "This is a screening assignment\n",
      "Written the File\n"
     ]
    }
   ],
   "source": [
    "file2.file_read()\n",
    "file2.replace_string()"
   ]
  },
  {
   "cell_type": "code",
   "execution_count": null,
   "id": "4ae71ee0",
   "metadata": {},
   "outputs": [],
   "source": []
  }
 ],
 "metadata": {
  "kernelspec": {
   "display_name": "Python 3",
   "language": "python",
   "name": "python3"
  },
  "language_info": {
   "codemirror_mode": {
    "name": "ipython",
    "version": 3
   },
   "file_extension": ".py",
   "mimetype": "text/x-python",
   "name": "python",
   "nbconvert_exporter": "python",
   "pygments_lexer": "ipython3",
   "version": "3.8.8"
  }
 },
 "nbformat": 4,
 "nbformat_minor": 5
}
